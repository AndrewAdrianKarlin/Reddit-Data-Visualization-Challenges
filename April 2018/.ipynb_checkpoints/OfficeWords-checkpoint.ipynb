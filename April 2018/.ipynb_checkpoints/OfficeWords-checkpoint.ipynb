{
 "cells": [
  {
   "cell_type": "markdown",
   "metadata": {},
   "source": [
    "Credit to William Evonosky (https://github.com/wevonosky) for the code to move from data CSV to a matrix of \"normalized mentions\". I've left his comments in below. My changes/additions are noted in markdown comments.\n",
    "\n",
    "@wevonosky - Thanks for the inspiration!"
   ]
  },
  {
   "cell_type": "code",
   "execution_count": 1,
   "metadata": {
    "collapsed": true
   },
   "outputs": [],
   "source": [
    "import numpy as np\n",
    "import matplotlib.pyplot as plt\n",
    "import pandas as pd\n",
    "import re\n",
    "from collections import Counter\n",
    "import seaborn as sns\n",
    "from mpl_toolkits.axes_grid1 import make_axes_locatable\n",
    "%matplotlib inline"
   ]
  },
  {
   "cell_type": "markdown",
   "metadata": {},
   "source": [
    "Loading in the csv file. Change the base variable to the path up to the file name to use this code directly"
   ]
  },
  {
   "cell_type": "code",
   "execution_count": 2,
   "metadata": {
    "collapsed": true
   },
   "outputs": [],
   "source": [
    "base = \"~/Documents/\"\n",
    "df = pd.read_csv(base + \"the-office-lines.csv\", header=0)"
   ]
  },
  {
   "cell_type": "markdown",
   "metadata": {},
   "source": [
    "In the actual lines in the dataset, there are words in brackets signifying someone is doing something for example [pam sneezes]. I didn't want to include these snippets of text in my analysis so I remove them by using the regular expressions python package. I also want to normalize my text for comparisons so I store the resulting strings to be all lower case."
   ]
  },
  {
   "cell_type": "code",
   "execution_count": 3,
   "metadata": {
    "collapsed": true
   },
   "outputs": [],
   "source": [
    "temp=[]\n",
    "for i in range(df.shape[0]):\n",
    "    temp.append(re.sub(\"[\\(\\[].*?[\\)\\]]\", \"\", df['line_text'][i]).lower())\n",
    "df['line_text'] = temp"
   ]
  },
  {
   "cell_type": "markdown",
   "metadata": {},
   "source": [
    "I also want the speaker tags to be lower case for simpler comparisons so I change them to lower case as well."
   ]
  },
  {
   "cell_type": "code",
   "execution_count": 4,
   "metadata": {
    "collapsed": true
   },
   "outputs": [],
   "source": [
    "temp = []\n",
    "for i in range(df.shape[0]):\n",
    "    temp.append(df['speaker'][i].lower())\n",
    "df['speaker'] = temp"
   ]
  },
  {
   "cell_type": "markdown",
   "metadata": {},
   "source": [
    "I decided to split the data between lines that existed in the show as aired, and lines that were part of deleted scenes. I did this so that later I could do some comparison between the scenes if I wanted and also that my analysis reflects on lines on the show that aired."
   ]
  },
  {
   "cell_type": "code",
   "execution_count": 5,
   "metadata": {
    "collapsed": true
   },
   "outputs": [],
   "source": [
    "notd = df.loc[df['deleted'] == False]\n",
    "didd = df.loc[df['deleted'] == True]"
   ]
  },
  {
   "cell_type": "markdown",
   "metadata": {},
   "source": [
    "I manually went through the speakers column of the data frame to verify all of the names in the main_speaks list were the way each character were addressed in the data. "
   ]
  },
  {
   "cell_type": "code",
   "execution_count": 6,
   "metadata": {
    "collapsed": true
   },
   "outputs": [],
   "source": [
    "main_speaks = ['michael','dwight','jim','pam','ryan', 'andy',\n",
    "              'robert', 'jan', 'roy', 'stanley', 'kevin',\n",
    "              'meredith', 'angela', 'oscar', 'phyllis',\n",
    "              'kelly', 'toby', 'creed', 'darryl','erin',\n",
    "              'gabe', 'holly', 'nellie', 'clark', 'pete']"
   ]
  },
  {
   "cell_type": "markdown",
   "metadata": {},
   "source": [
    "Next, I wanted to compile all the words said by individual characters. I do this first by subsetting the notd dataframe into a dataframe called sdf which contains only data for a specific speaker. Next, I ignore punctuation and create a list of only the letters or words from each line in the sdf dataframe. Once all the words by a speaker are in one list, I do a Counter of the words and store the result in a dictionary."
   ]
  },
  {
   "cell_type": "code",
   "execution_count": 7,
   "metadata": {
    "collapsed": true
   },
   "outputs": [],
   "source": [
    "speak_words = {}\n",
    "for i in main_speaks:\n",
    "    sdf = notd.loc[df['speaker'] == i]\n",
    "    allw = []\n",
    "    for j in sdf['line_text']:\n",
    "        lst = re.findall(r'\\b\\w+', j)\n",
    "        allw.extend(lst)\n",
    "    speak_words[i] = Counter(allw)"
   ]
  },
  {
   "cell_type": "markdown",
   "metadata": {},
   "source": [
    "I now wanted to know how often one character says the name of the other characters. To do this, I simply loop through the main_speaks list and access that speakers Counter stored in the speak_words dictionary and then access each characters name. I originally made this graphic with just the number of times Jim said the word Michael for example but thought this isn't a fair comparison for characters who don't speak very often. I decided to normalize each characters mention count by their total words in the database. This isn't 'exactly' accurate since some words in the counter are 's' or 't' which are artifacts of removing punctuation earlier but its close. It also penalizes characters who speak more since spekaing more introduces more of these single letter artifacts. "
   ]
  },
  {
   "cell_type": "code",
   "execution_count": 8,
   "metadata": {
    "collapsed": true
   },
   "outputs": [],
   "source": [
    "occ_matrix = []\n",
    "for i in main_speaks:\n",
    "    lst_occ = []\n",
    "    for j in main_speaks:\n",
    "        lst_occ.append(speak_words[i][j]/len(speak_words[i]))\n",
    "    occ_matrix.append(lst_occ)\n",
    "    "
   ]
  },
  {
   "cell_type": "markdown",
   "metadata": {},
   "source": [
    "# AndrewAdrianKarlin everything following is me.\n",
    "\n",
    "I'm jumping off here as I'm curious about comparing the proportion of how much each character says the name of the other character. For example- do Michael and Dwight talk about each other at the same rate, or does one talk more about the other."
   ]
  },
  {
   "cell_type": "markdown",
   "metadata": {},
   "source": [
    "I'm changing the occ_matrix table into a dataframe with index and column labels to make it easier to run the comparison. *Working note- the Y axis is who is speaking, the x axis is who they're speaking about.*"
   ]
  },
  {
   "cell_type": "code",
   "execution_count": 9,
   "metadata": {
    "scrolled": true
   },
   "outputs": [],
   "source": [
    "df_occ_matrix = pd.DataFrame(occ_matrix, index=main_speaks, columns=main_speaks)"
   ]
  },
  {
   "cell_type": "markdown",
   "metadata": {},
   "source": [
    "Now I transpose the matrix of correlations and divide it by itself to create a matrix of relative normalized mentions"
   ]
  },
  {
   "cell_type": "code",
   "execution_count": 10,
   "metadata": {},
   "outputs": [],
   "source": [
    "df_occ_matrix_T = df_occ_matrix.T\n",
    "df_matrix = df_occ_matrix.divide(df_occ_matrix_T)"
   ]
  },
  {
   "cell_type": "markdown",
   "metadata": {},
   "source": [
    "Creating a triangular mask to avoid the heatmap mirroring itself across the diagonal and generate the heatmap. I limited the maximum relative mentions to 5x give better resolution for most of the data."
   ]
  },
  {
   "cell_type": "code",
   "execution_count": 11,
   "metadata": {
    "collapsed": true
   },
   "outputs": [],
   "source": [
    "mask = np.zeros_like(df_matrix, dtype=np.bool)\n",
    "mask[np.triu_indices_from(mask)] = True"
   ]
  },
  {
   "cell_type": "code",
   "execution_count": 12,
   "metadata": {},
   "outputs": [
    {
     "data": {
      "image/png": "[encoded data removed]",
      "text/plain": [
       "<matplotlib.figure.Figure at 0x11d014cc0>"
      ]
     },
     "metadata": {},
     "output_type": "display_data"
    }
   ],
   "source": [
    "fig, ax = plt.subplots()\n",
    "fig.set_size_inches(10, 8)\n",
    "sns.heatmap(df_matrix, vmin=0, vmax=5, cmap=\"YlGnBu\", mask=mask, ax=ax)\n",
    "sns.plt.show()"
   ]
  }
 ],
 "metadata": {
  "kernelspec": {
   "display_name": "Python [conda root]",
   "language": "python",
   "name": "conda-root-py"
  },
  "language_info": {
   "codemirror_mode": {
    "name": "ipython",
    "version": 3
   },
   "file_extension": ".py",
   "mimetype": "text/x-python",
   "name": "python",
   "nbconvert_exporter": "python",
   "pygments_lexer": "ipython3",
   "version": "3.6.1"
  }
 },
 "nbformat": 4,
 "nbformat_minor": 2
}
